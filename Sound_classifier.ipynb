{
 "cells": [
  {
   "cell_type": "markdown",
   "metadata": {},
   "source": [
    "# Features to extract\n",
    "\n",
    "1) Length of Signal\n",
    "\n",
    "2) Median Amplitude (Time Domain)\n",
    "\n",
    "3) Media Amplitude (Frequency Domain)\n",
    "\n",
    "4) Power Spectral Density - A Power Spectral Density is the measure of signal's power content versus frequency\n",
    "\n",
    "5) Peak Frequecy (For personal sound calibration)"
   ]
  },
  {
   "cell_type": "code",
   "execution_count": 1,
   "metadata": {},
   "outputs": [],
   "source": [
    "import numpy as np\n",
    "import matplotlib.pyplot as plt\n",
    "import os\n",
    "from scipy.io import wavfile\n",
    "from scipy import signal\n",
    "from jupyterthemes import jtplot\n",
    "jtplot.style(theme='chesterish', context='notebook', ticks=True, grid=False)\n",
    "%matplotlib inline"
   ]
  },
  {
   "cell_type": "markdown",
   "metadata": {},
   "source": [
    "# Feature Extraction Functions"
   ]
  },
  {
   "cell_type": "code",
   "execution_count": 2,
   "metadata": {},
   "outputs": [],
   "source": [
    "def median(data): \n",
    "    '''Returns the median of the data'''\n",
    "    return np.median(data)\n",
    "\n",
    "def psd(data):\n",
    "    '''Returns Power Spectral Density'''\n",
    "    freqs, power = signal.welch(data)\n",
    "    return power\n",
    "\n",
    "def length(data):\n",
    "    '''Returns the time taken by the event'''\n",
    "    pass"
   ]
  },
  {
   "cell_type": "markdown",
   "metadata": {},
   "source": [
    "# Signal Processing"
   ]
  },
  {
   "cell_type": "code",
   "execution_count": 3,
   "metadata": {},
   "outputs": [],
   "source": [
    "def spectrum(t,x):\n",
    "    frequency = np.fft.rfftfreq(len(t),d=t[1]-t[0])\n",
    "    amplitude = (np.fft.rfft(x)) \n",
    "    return frequency, amplitude\n",
    "\n",
    "def steplow(cut,freq,amp):\n",
    "    for i in range(len(amp)):\n",
    "        if freq[i]<=cut:\n",
    "            amp[i] = 0\n",
    "    return amp\n",
    "\n",
    "def stephigh(cut,freq,amp):\n",
    "    for i in range(len(amp)):\n",
    "        if freq[i]>=cut:\n",
    "            amp[i] = 0\n",
    "    return amp\n",
    "\n",
    "def fftplot(filename,stdev=10,cutlow=85,cuthigh=185,cube=False):\n",
    "    fs, data = wavfile.read(str(filename))\n",
    "    try:\n",
    "        data = (data[:,0]+data[:,1])/2 # Merging the two channels\n",
    "    except IndexError:\n",
    "        pass\n",
    "#   Defining time domain and taking the FFT\n",
    "    df = fs/len(data) # = 1/T\n",
    "    t = np.linspace(0,len(data)/fs,len(data))\n",
    "    freq, amp = spectrum(t,data)\n",
    "    cutamp = steplow(cutlow,freq,amp)\n",
    "    cutamp = stephigh(cuthigh,freq,amp)\n",
    "    cutfreq = freq\n",
    "    Y = np.fft.irfft(amp)\n",
    "    if cube:\n",
    "        Y=Y**3\n",
    "\n",
    "    cutamp = np.abs(cutamp)**2\n",
    "    \n",
    "    # Fitting a Gaussian\n",
    "    wid = 2*(stdev**2)\n",
    "    wid1  = 100\n",
    "    cen = freq[np.argmax(cutamp)]\n",
    "    g = cutamp*np.exp(-((cutfreq - cen)**2)/wid)\n",
    "    G = np.exp(-(cutfreq - cen)**2/wid)\n",
    "    G_all = amp*np.exp(-((freq - cen)**2)/wid)\n",
    "    \n",
    "    YY = np.fft.irfft(G_all)\n",
    "    \n",
    "    return YY,t,cutamp,freq,fs"
   ]
  },
  {
   "cell_type": "markdown",
   "metadata": {},
   "source": [
    "# Write Cleared Files"
   ]
  },
  {
   "cell_type": "code",
   "execution_count": 17,
   "metadata": {},
   "outputs": [
    {
     "name": "stdout",
     "output_type": "stream",
     "text": [
      "Would you like to write new files: Yes\n",
      "Cleared files written\n",
      "Cleared files written\n",
      "Cleared files written\n",
      "Cleared files written\n",
      "Cleared files written\n",
      "Cleared files written\n",
      "Cleared files written\n",
      "Cleared files written\n",
      "Cleared files written\n",
      "Cleared files written\n",
      "Cleared files written\n",
      "Cleared files written\n",
      "Cleared files written\n",
      "Cleared files written\n",
      "Cleared files written\n"
     ]
    }
   ],
   "source": [
    "folder = 'C:/Users/nagpa/Desktop/Train Data/Data/Aayush Jindal'\n",
    "os.chdir(folder)\n",
    "files = os.listdir()\n",
    "\n",
    "YY = []\n",
    "for i in range(len(files)):\n",
    "    data,time,amp,freq,fs = fftplot(str(files[i]),stdev=10,cutlow=85,cuthigh=185)\n",
    "    YY.append(data)\n",
    "    \n",
    "ask = input(\"Would you like to write new files: \").upper()\n",
    "# ask = 'yes'\n",
    "if (ask == 'Y') or (ask == 'YES'):\n",
    "    for i in range(len(files)):\n",
    "        wavfile.write('Clear_'+str(files[i]),fs,np.array(YY[i]))\n",
    "        print(\"Cleared files written\")\n",
    "else:\n",
    "    print(\"No files written\")"
   ]
  },
  {
   "cell_type": "code",
   "execution_count": 18,
   "metadata": {},
   "outputs": [],
   "source": [
    "folder = 'C:/Users/nagpa/Desktop/Train Data/Clear_training_data'\n",
    "os.chdir(folder)"
   ]
  },
  {
   "cell_type": "code",
   "execution_count": 19,
   "metadata": {},
   "outputs": [],
   "source": [
    "files = os.listdir()\n",
    "PSD = []\n",
    "y = []\n",
    "for i in range(len(files)):\n",
    "    data,t,amp,freq,fs = fftplot(str(files[i]))\n",
    "    PSD.append(psd(data))\n",
    "    if 'Zoom_in' in files[i]:\n",
    "        y.append(1)\n",
    "    elif 'Zoom_out' in files[i]:\n",
    "        y.append(2)\n",
    "    elif 'Snap' in files[i]:\n",
    "        y.append(3)"
   ]
  },
  {
   "cell_type": "markdown",
   "metadata": {},
   "source": [
    "# Only using power spectrum"
   ]
  },
  {
   "cell_type": "code",
   "execution_count": 20,
   "metadata": {},
   "outputs": [],
   "source": [
    "import pandas as pd"
   ]
  },
  {
   "cell_type": "code",
   "execution_count": 21,
   "metadata": {},
   "outputs": [
    {
     "data": {
      "text/html": [
       "<div>\n",
       "<style scoped>\n",
       "    .dataframe tbody tr th:only-of-type {\n",
       "        vertical-align: middle;\n",
       "    }\n",
       "\n",
       "    .dataframe tbody tr th {\n",
       "        vertical-align: top;\n",
       "    }\n",
       "\n",
       "    .dataframe thead th {\n",
       "        text-align: right;\n",
       "    }\n",
       "</style>\n",
       "<table border=\"1\" class=\"dataframe\">\n",
       "  <thead>\n",
       "    <tr style=\"text-align: right;\">\n",
       "      <th></th>\n",
       "      <th>psd</th>\n",
       "    </tr>\n",
       "  </thead>\n",
       "  <tbody>\n",
       "    <tr>\n",
       "      <th>0</th>\n",
       "      <td>[6846535.789432024, 27617911.435662955, 593333...</td>\n",
       "    </tr>\n",
       "    <tr>\n",
       "      <th>1</th>\n",
       "      <td>[4035472.48743267, 16416185.074694252, 3372342...</td>\n",
       "    </tr>\n",
       "    <tr>\n",
       "      <th>2</th>\n",
       "      <td>[7914335.601514879, 32110721.192546595, 675259...</td>\n",
       "    </tr>\n",
       "    <tr>\n",
       "      <th>3</th>\n",
       "      <td>[4338954.053739742, 17663044.100906845, 363155...</td>\n",
       "    </tr>\n",
       "    <tr>\n",
       "      <th>4</th>\n",
       "      <td>[8158526.633672413, 34262633.821042284, 747876...</td>\n",
       "    </tr>\n",
       "  </tbody>\n",
       "</table>\n",
       "</div>"
      ],
      "text/plain": [
       "                                                 psd\n",
       "0  [6846535.789432024, 27617911.435662955, 593333...\n",
       "1  [4035472.48743267, 16416185.074694252, 3372342...\n",
       "2  [7914335.601514879, 32110721.192546595, 675259...\n",
       "3  [4338954.053739742, 17663044.100906845, 363155...\n",
       "4  [8158526.633672413, 34262633.821042284, 747876..."
      ]
     },
     "execution_count": 21,
     "metadata": {},
     "output_type": "execute_result"
    }
   ],
   "source": [
    "df = pd.DataFrame()\n",
    "df['psd'] = PSD\n",
    "df.head()"
   ]
  },
  {
   "cell_type": "code",
   "execution_count": 22,
   "metadata": {},
   "outputs": [
    {
     "data": {
      "text/html": [
       "<div>\n",
       "<style scoped>\n",
       "    .dataframe tbody tr th:only-of-type {\n",
       "        vertical-align: middle;\n",
       "    }\n",
       "\n",
       "    .dataframe tbody tr th {\n",
       "        vertical-align: top;\n",
       "    }\n",
       "\n",
       "    .dataframe thead th {\n",
       "        text-align: right;\n",
       "    }\n",
       "</style>\n",
       "<table border=\"1\" class=\"dataframe\">\n",
       "  <thead>\n",
       "    <tr style=\"text-align: right;\">\n",
       "      <th></th>\n",
       "      <th>0</th>\n",
       "      <th>1</th>\n",
       "      <th>2</th>\n",
       "      <th>3</th>\n",
       "      <th>4</th>\n",
       "      <th>5</th>\n",
       "      <th>6</th>\n",
       "      <th>7</th>\n",
       "      <th>8</th>\n",
       "      <th>9</th>\n",
       "      <th>...</th>\n",
       "      <th>119</th>\n",
       "      <th>120</th>\n",
       "      <th>121</th>\n",
       "      <th>122</th>\n",
       "      <th>123</th>\n",
       "      <th>124</th>\n",
       "      <th>125</th>\n",
       "      <th>126</th>\n",
       "      <th>127</th>\n",
       "      <th>128</th>\n",
       "    </tr>\n",
       "  </thead>\n",
       "  <tbody>\n",
       "    <tr>\n",
       "      <th>0</th>\n",
       "      <td>6.846536e+06</td>\n",
       "      <td>2.761791e+07</td>\n",
       "      <td>5.933339e+06</td>\n",
       "      <td>4001.580247</td>\n",
       "      <td>293.718987</td>\n",
       "      <td>51.730748</td>\n",
       "      <td>13.923803</td>\n",
       "      <td>4.830375</td>\n",
       "      <td>1.985323</td>\n",
       "      <td>0.921420</td>\n",
       "      <td>...</td>\n",
       "      <td>1.686695e-08</td>\n",
       "      <td>1.327151e-08</td>\n",
       "      <td>1.013932e-08</td>\n",
       "      <td>7.454961e-09</td>\n",
       "      <td>5.205302e-09</td>\n",
       "      <td>3.379370e-09</td>\n",
       "      <td>1.968288e-09</td>\n",
       "      <td>9.652177e-10</td>\n",
       "      <td>3.653072e-10</td>\n",
       "      <td>8.282913e-11</td>\n",
       "    </tr>\n",
       "    <tr>\n",
       "      <th>1</th>\n",
       "      <td>4.035472e+06</td>\n",
       "      <td>1.641619e+07</td>\n",
       "      <td>3.372342e+06</td>\n",
       "      <td>3681.160951</td>\n",
       "      <td>278.371461</td>\n",
       "      <td>49.676558</td>\n",
       "      <td>13.471341</td>\n",
       "      <td>4.695634</td>\n",
       "      <td>1.936143</td>\n",
       "      <td>0.900636</td>\n",
       "      <td>...</td>\n",
       "      <td>1.662993e-08</td>\n",
       "      <td>1.308343e-08</td>\n",
       "      <td>9.993880e-09</td>\n",
       "      <td>7.346068e-09</td>\n",
       "      <td>5.127033e-09</td>\n",
       "      <td>3.325956e-09</td>\n",
       "      <td>1.934082e-09</td>\n",
       "      <td>9.446655e-10</td>\n",
       "      <td>3.529209e-10</td>\n",
       "      <td>7.799476e-11</td>\n",
       "    </tr>\n",
       "    <tr>\n",
       "      <th>2</th>\n",
       "      <td>7.914336e+06</td>\n",
       "      <td>3.211072e+07</td>\n",
       "      <td>6.752597e+06</td>\n",
       "      <td>5742.378468</td>\n",
       "      <td>426.105094</td>\n",
       "      <td>75.402197</td>\n",
       "      <td>20.349469</td>\n",
       "      <td>7.071463</td>\n",
       "      <td>2.909742</td>\n",
       "      <td>1.351546</td>\n",
       "      <td>...</td>\n",
       "      <td>2.481676e-08</td>\n",
       "      <td>1.952588e-08</td>\n",
       "      <td>1.491669e-08</td>\n",
       "      <td>1.096652e-08</td>\n",
       "      <td>7.656025e-09</td>\n",
       "      <td>4.969068e-09</td>\n",
       "      <td>2.892585e-09</td>\n",
       "      <td>1.416514e-09</td>\n",
       "      <td>5.337129e-10</td>\n",
       "      <td>1.199594e-10</td>\n",
       "    </tr>\n",
       "    <tr>\n",
       "      <th>3</th>\n",
       "      <td>4.338954e+06</td>\n",
       "      <td>1.766304e+07</td>\n",
       "      <td>3.631552e+06</td>\n",
       "      <td>3933.686101</td>\n",
       "      <td>297.383373</td>\n",
       "      <td>53.063439</td>\n",
       "      <td>14.388939</td>\n",
       "      <td>5.015292</td>\n",
       "      <td>2.067896</td>\n",
       "      <td>0.961908</td>\n",
       "      <td>...</td>\n",
       "      <td>1.776016e-08</td>\n",
       "      <td>1.397265e-08</td>\n",
       "      <td>1.067313e-08</td>\n",
       "      <td>7.845377e-09</td>\n",
       "      <td>5.475538e-09</td>\n",
       "      <td>3.552060e-09</td>\n",
       "      <td>2.065595e-09</td>\n",
       "      <td>1.008939e-09</td>\n",
       "      <td>3.769792e-10</td>\n",
       "      <td>8.333222e-11</td>\n",
       "    </tr>\n",
       "    <tr>\n",
       "      <th>4</th>\n",
       "      <td>8.158527e+06</td>\n",
       "      <td>3.426263e+07</td>\n",
       "      <td>7.478761e+06</td>\n",
       "      <td>4151.862690</td>\n",
       "      <td>301.690588</td>\n",
       "      <td>52.883891</td>\n",
       "      <td>14.194401</td>\n",
       "      <td>4.915310</td>\n",
       "      <td>2.017713</td>\n",
       "      <td>0.935618</td>\n",
       "      <td>...</td>\n",
       "      <td>1.706881e-08</td>\n",
       "      <td>1.343129e-08</td>\n",
       "      <td>1.026245e-08</td>\n",
       "      <td>7.546682e-09</td>\n",
       "      <td>5.270700e-09</td>\n",
       "      <td>3.423401e-09</td>\n",
       "      <td>1.995808e-09</td>\n",
       "      <td>9.810010e-10</td>\n",
       "      <td>3.740708e-10</td>\n",
       "      <td>8.604289e-11</td>\n",
       "    </tr>\n",
       "  </tbody>\n",
       "</table>\n",
       "<p>5 rows × 129 columns</p>\n",
       "</div>"
      ],
      "text/plain": [
       "            0             1             2            3           4    \\\n",
       "0  6.846536e+06  2.761791e+07  5.933339e+06  4001.580247  293.718987   \n",
       "1  4.035472e+06  1.641619e+07  3.372342e+06  3681.160951  278.371461   \n",
       "2  7.914336e+06  3.211072e+07  6.752597e+06  5742.378468  426.105094   \n",
       "3  4.338954e+06  1.766304e+07  3.631552e+06  3933.686101  297.383373   \n",
       "4  8.158527e+06  3.426263e+07  7.478761e+06  4151.862690  301.690588   \n",
       "\n",
       "         5          6         7         8         9    ...           119  \\\n",
       "0  51.730748  13.923803  4.830375  1.985323  0.921420  ...  1.686695e-08   \n",
       "1  49.676558  13.471341  4.695634  1.936143  0.900636  ...  1.662993e-08   \n",
       "2  75.402197  20.349469  7.071463  2.909742  1.351546  ...  2.481676e-08   \n",
       "3  53.063439  14.388939  5.015292  2.067896  0.961908  ...  1.776016e-08   \n",
       "4  52.883891  14.194401  4.915310  2.017713  0.935618  ...  1.706881e-08   \n",
       "\n",
       "            120           121           122           123           124  \\\n",
       "0  1.327151e-08  1.013932e-08  7.454961e-09  5.205302e-09  3.379370e-09   \n",
       "1  1.308343e-08  9.993880e-09  7.346068e-09  5.127033e-09  3.325956e-09   \n",
       "2  1.952588e-08  1.491669e-08  1.096652e-08  7.656025e-09  4.969068e-09   \n",
       "3  1.397265e-08  1.067313e-08  7.845377e-09  5.475538e-09  3.552060e-09   \n",
       "4  1.343129e-08  1.026245e-08  7.546682e-09  5.270700e-09  3.423401e-09   \n",
       "\n",
       "            125           126           127           128  \n",
       "0  1.968288e-09  9.652177e-10  3.653072e-10  8.282913e-11  \n",
       "1  1.934082e-09  9.446655e-10  3.529209e-10  7.799476e-11  \n",
       "2  2.892585e-09  1.416514e-09  5.337129e-10  1.199594e-10  \n",
       "3  2.065595e-09  1.008939e-09  3.769792e-10  8.333222e-11  \n",
       "4  1.995808e-09  9.810010e-10  3.740708e-10  8.604289e-11  \n",
       "\n",
       "[5 rows x 129 columns]"
      ]
     },
     "execution_count": 22,
     "metadata": {},
     "output_type": "execute_result"
    }
   ],
   "source": [
    "X = pd.DataFrame(df[\"psd\"].to_list(), columns=np.arange(129))\n",
    "X.head()"
   ]
  },
  {
   "cell_type": "markdown",
   "metadata": {},
   "source": [
    "# Process Data"
   ]
  },
  {
   "cell_type": "code",
   "execution_count": 23,
   "metadata": {},
   "outputs": [],
   "source": [
    "# Normalise the data\n",
    "from sklearn import preprocessing\n",
    "X= preprocessing.StandardScaler().fit(X).transform(X)"
   ]
  },
  {
   "cell_type": "code",
   "execution_count": 24,
   "metadata": {},
   "outputs": [],
   "source": [
    "# Spilt the data into training and test sets\n",
    "from sklearn.model_selection import train_test_split\n",
    "X_train, X_test, y_train, y_test = train_test_split( X, y, test_size=0.2, random_state=4)"
   ]
  },
  {
   "cell_type": "markdown",
   "metadata": {},
   "source": [
    "# Test using Classification Algorithms"
   ]
  },
  {
   "cell_type": "markdown",
   "metadata": {},
   "source": [
    "## 1) K - Nearest Neighbours (KNN) \n",
    "Best result - Raw Data for Anikth, Mansha,Gautam,Pranav_Singhal,Sahir - 82.35%"
   ]
  },
  {
   "cell_type": "code",
   "execution_count": 25,
   "metadata": {},
   "outputs": [
    {
     "name": "stdout",
     "output_type": "stream",
     "text": [
      "Best value of K = 5 with an accuray of  66.67 %\n"
     ]
    },
    {
     "data": {
      "image/png": "[encoded data removed]",
      "text/plain": [
       "<Figure size 432x288 with 1 Axes>"
      ]
     },
     "metadata": {
      "needs_background": "dark"
     },
     "output_type": "display_data"
    }
   ],
   "source": [
    "from sklearn.neighbors import KNeighborsClassifier\n",
    "from sklearn import metrics\n",
    "Ks = 12\n",
    "mean_acc = np.zeros((Ks-1))\n",
    "\n",
    "for n in range(1,Ks):\n",
    "    neigh = KNeighborsClassifier(n_neighbors = n).fit(X_train,y_train)\n",
    "    yhat=neigh.predict(X_test)\n",
    "    mean_acc[n-1] = metrics.accuracy_score(y_test, yhat)\n",
    "    \n",
    "print(\"Best value of K = \"+str(range(1,Ks)[np.argmax(mean_acc)]),\"with an accuray of \",str(round(np.max(mean_acc)*100,2)),\"%\")\n",
    "plt.plot(range(1,Ks),mean_acc,'-o')\n",
    "plt.ylabel('Accuracy ')\n",
    "plt.xlabel('Number of Neighbours (K)')\n",
    "plt.show()"
   ]
  },
  {
   "cell_type": "markdown",
   "metadata": {},
   "source": [
    "## 2) Support Vector Machine (SVM)"
   ]
  },
  {
   "cell_type": "code",
   "execution_count": 26,
   "metadata": {},
   "outputs": [
    {
     "name": "stdout",
     "output_type": "stream",
     "text": [
      "Best method = linear with an accuray of  47.62 %\n"
     ]
    },
    {
     "data": {
      "image/png": "[encoded data removed]",
      "text/plain": [
       "<Figure size 432x288 with 1 Axes>"
      ]
     },
     "metadata": {
      "needs_background": "dark"
     },
     "output_type": "display_data"
    }
   ],
   "source": [
    "from sklearn import svm\n",
    "method = ['linear', 'poly', 'rbf', 'sigmoid']\n",
    "mean_acc = np.zeros((len(method)))\n",
    "\n",
    "for n in range(1,len(method)+1):\n",
    "    svm_clf = svm.SVC(kernel=method[n-1],gamma='scale')\n",
    "    svm_clf.fit(X_train, y_train) \n",
    "    yhat = svm_clf.predict(X_test)\n",
    "    mean_acc[n-1] = metrics.accuracy_score(y_test, yhat)\n",
    "    \n",
    "print(\"Best method = \"+str(method[np.argmax(mean_acc)]),\"with an accuray of \",str(round(np.max(mean_acc)*100,2)),\"%\")\n",
    "plt.scatter(range(0,len(method)),mean_acc)\n",
    "plt.ylabel('Accuracy ')\n",
    "plt.xlabel('Method')\n",
    "plt.tight_layout()\n",
    "plt.show()"
   ]
  },
  {
   "cell_type": "markdown",
   "metadata": {},
   "source": [
    "## 3) Logistic Regression "
   ]
  },
  {
   "cell_type": "code",
   "execution_count": 27,
   "metadata": {
    "scrolled": false
   },
   "outputs": [
    {
     "name": "stdout",
     "output_type": "stream",
     "text": [
      "Best C = 0.0 with an accuray of  47.62 %\n"
     ]
    },
    {
     "data": {
      "image/png": "[encoded data removed]",
      "text/plain": [
       "<Figure size 432x288 with 1 Axes>"
      ]
     },
     "metadata": {
      "needs_background": "dark"
     },
     "output_type": "display_data"
    }
   ],
   "source": [
    "from sklearn.linear_model import LogisticRegression\n",
    "C = np.linspace(0,2,100)\n",
    "mean_acc = np.zeros((len(C)-1))\n",
    "\n",
    "for n in range(1,len(C)):\n",
    "    LR = LogisticRegression(C=C[n], solver='liblinear',multi_class='auto').fit(X_train,y_train)\n",
    "    yhat = LR.predict(X_test) \n",
    "    mean_acc[n-1] = metrics.accuracy_score(y_test, yhat)\n",
    "    \n",
    "print(\"Best C = \"+str(C[np.argmax(mean_acc)]),\"with an accuray of \",str(round(np.max(mean_acc)*100,2)),\"%\")\n",
    "plt.plot(C[0:len(C)-1],mean_acc)\n",
    "plt.ylabel('Accuracy ')\n",
    "plt.xlabel('C')\n",
    "plt.show()"
   ]
  },
  {
   "cell_type": "markdown",
   "metadata": {},
   "source": [
    "# Clustering Algorithms"
   ]
  },
  {
   "cell_type": "markdown",
   "metadata": {},
   "source": [
    "## 1) K - Means"
   ]
  },
  {
   "cell_type": "code",
   "execution_count": 28,
   "metadata": {},
   "outputs": [],
   "source": [
    "from sklearn.cluster import KMeans "
   ]
  },
  {
   "cell_type": "code",
   "execution_count": 29,
   "metadata": {},
   "outputs": [
    {
     "data": {
      "image/png": "[encoded data removed]",
      "text/plain": [
       "<Figure size 1080x720 with 1 Axes>"
      ]
     },
     "metadata": {},
     "output_type": "display_data"
    },
    {
     "name": "stdout",
     "output_type": "stream",
     "text": [
      "Prediction    = [0 0 0 0 0 0 0 0 0 0 0 0 0 0 0 0 0 0 0 0 0 0 0 0 0 0 0 1 1 2 0 0 0 0 0 0 0\n",
      " 0 0 0 0 0 0 0 1 0 0 0 0 0 0 0 0 0 0 0 1 1 1 1 1 1 1 1 1 0 0 0 0 0 0 0 0 0\n",
      " 0 0 1 0 1 0 0 0 0 0 0 0 0 0 0 0 0 0 0 0 0 1 0 1 1 1 0 0 0 0 0]\n",
      "Correct Value = [2 2 2 2 2 2 2 2 2 2 2 2 2 2 2 2 2 2 2 2 2 2 2 2 2 2 2 2 2 2 2 2 2 2 2 2 0\n",
      " 0 0 0 0 0 0 0 0 0 0 0 0 0 0 0 0 0 0 0 0 0 0 0 0 0 0 0 0 0 0 0 0 0 1 1 1 1\n",
      " 1 1 1 1 1 1 1 1 1 1 1 1 1 1 1 1 1 1 1 1 1 1 1 1 1 1 1 1 1 1 1]\n",
      "Accuracy = 9.523809523809524 %\n"
     ]
    }
   ],
   "source": [
    "k_means = KMeans(init = \"k-means++\", n_clusters = 3, n_init = 50)\n",
    "k_means.fit(X)\n",
    "k_means_cluster_centers = k_means.cluster_centers_\n",
    "k_means_labels = k_means.labels_\n",
    "\n",
    "# Plot the Graph \n",
    "fig = plt.figure(figsize=(15, 10))\n",
    "colors = plt.cm.Spectral(np.linspace(0, 1, len(set(k_means_labels))))\n",
    "ax = fig.add_subplot(1, 1, 1)\n",
    "for k, col in zip(range(len([[4,4], [-2, -1], [2, -3], [1, 1]])), colors):\n",
    "    my_members = (k_means_labels == k)\n",
    "    cluster_center = k_means_cluster_centers[k]\n",
    "    ax.plot(X[my_members, 0], X[my_members, 1], 'o', markerfacecolor=col, marker='.')\n",
    "    ax.plot(cluster_center[0], cluster_center[1], 'o', markerfacecolor=col,  markeredgecolor='k', markersize=6)\n",
    "ax.set_title('KMeans')\n",
    "ax.set_xticks(())\n",
    "ax.set_yticks(())\n",
    "plt.show()\n",
    "print(\"Prediction    =\",k_means_labels)\n",
    "print(\"Correct Value =\",np.array(y)-1)\n",
    "acc = 0\n",
    "for i in range(len(y)):\n",
    "    if k_means_labels[i] == y[i]:\n",
    "        acc+=1\n",
    "print(\"Accuracy =\",acc/len(y)*100,\"%\")"
   ]
  },
  {
   "cell_type": "code",
   "execution_count": null,
   "metadata": {},
   "outputs": [],
   "source": []
  }
 ],
 "metadata": {
  "kernelspec": {
   "display_name": "Python 3",
   "language": "python",
   "name": "python3"
  },
  "language_info": {
   "codemirror_mode": {
    "name": "ipython",
    "version": 3
   },
   "file_extension": ".py",
   "mimetype": "text/x-python",
   "name": "python",
   "nbconvert_exporter": "python",
   "pygments_lexer": "ipython3",
   "version": "3.7.6"
  }
 },
 "nbformat": 4,
 "nbformat_minor": 4
}
